{
  "nbformat": 4,
  "nbformat_minor": 0,
  "metadata": {
    "colab": {
      "name": "20bcs023_Ashwani_kumar_Assignment-3.ipynb",
      "provenance": []
    },
    "kernelspec": {
      "name": "python3",
      "display_name": "Python 3"
    },
    "language_info": {
      "name": "python"
    }
  },
  "cells": [
    {
      "cell_type": "markdown",
      "metadata": {
        "id": "XHTEobhl00Co"
      },
      "source": [
        "### Q1"
      ]
    },
    {
      "cell_type": "code",
      "metadata": {
        "colab": {
          "base_uri": "https://localhost:8080/"
        },
        "id": "0QZKVZNIuT5b",
        "outputId": "1135fe93-409a-45e6-d256-3397c0262ee3"
      },
      "source": [
        "class Student:\n",
        "  def __init__(self):\n",
        "    self.name = input(\"Enter the name of student:- \")\n",
        "    self.rollno= input(\"Enter the roll no:- \")\n",
        "    self.age = input(\"Enter the age:- \")\n",
        "    self.gender=input(\"Enter gender:- M/F :- \")\n",
        "    self.branch = input(\"Enter branch:- \")\n",
        "    self.sem = input(\"enter semester:- \")\n",
        "  def display(self):\n",
        "    print(self.name)\n",
        "    print(self.rollno)\n",
        "    print(self.age)\n",
        "    print(self.gender)\n",
        "    print(self.branch)\n",
        "    print(self.sem)\n",
        "class StudentResultInfo(Student):\n",
        "  def __init__(self):\n",
        "    Student.__init__(self)\n",
        "    self.total_marks = input(\"Enter total marks:- \")\n",
        "    self.percentage= input(\"percentage:- \")\n",
        "    self.grade = input(\"grade:- \")\n",
        "  def show(self):\n",
        "    print(self.name)\n",
        "    print(self.rollno)\n",
        "    print(self.age)\n",
        "    print(self.gender)\n",
        "    print(self.branch)\n",
        "    print(self.sem)\n",
        "    print(self.total_marks)\n",
        "    print(self.percentage)\n",
        "    print(self.grade)\n",
        "\n",
        "\n",
        "a = StudentResultInfo()\n",
        "a.show()"
      ],
      "execution_count": null,
      "outputs": [
        {
          "output_type": "stream",
          "name": "stdout",
          "text": [
            "Enter the name of student:- Ashwani\n",
            "Enter the roll no:- 20bcs023\n",
            "Enter the age:- 20\n",
            "Enter gender:- M/F :- M\n",
            "Enter branch:- CSE\n",
            "enter semester:- 3\n",
            "Enter total marks:- 576\n",
            "percentage:- 96\n",
            "grade:- A\n",
            "Ashwani\n",
            "20bcs023\n",
            "20\n",
            "M\n",
            "CSE\n",
            "3\n",
            "576\n",
            "96\n",
            "A\n"
          ]
        }
      ]
    },
    {
      "cell_type": "markdown",
      "metadata": {
        "id": "fZROKhxqyEhL"
      },
      "source": [
        "### Q2"
      ]
    },
    {
      "cell_type": "code",
      "metadata": {
        "id": "BbF1PVkbyG4x",
        "colab": {
          "base_uri": "https://localhost:8080/"
        },
        "outputId": "2e42308c-bf2a-4145-845b-dd458b74a4e8"
      },
      "source": [
        "class picture:\n",
        "  def __init__(self):\n",
        "    self.file_size = int(input(\"Enter picture size:- \"))\n",
        "    self.created = input(\"Enter picture creator:- \")\n",
        "    self.description = input(\"Enter picture description:- \")\n",
        "    self.dimension = int(input(\"Enter picture dimension:- \"))\n",
        "class PDFs():\n",
        "  def __init__(self):\n",
        "    self.file_size1 = int(input(\"Enter Pdfs size:- \"))\n",
        "    self.created1 = input(\"Enter Pdfs creator name:- \")\n",
        "    self.description1 = input(\"Enter Pdfs description:- \")\n",
        "class CMS(picture,PDFs):\n",
        "  def __init__(self):\n",
        "    picture.__init__(self)\n",
        "    PDFs.__init__(self)\n",
        "  def check(self):\n",
        "    if ((self.file_size > 20) and (self.file_size1 > 25)):\n",
        "      print(\"Wrong file size\")\n",
        "    if (self.dimension > 50 ):\n",
        "      print('Wrong Dimension for Picture')\n",
        "  def show(self):\n",
        "    print(self.description,\"   \",self.description1)\n",
        "    \n",
        "a = CMS()\n",
        "a.check()\n",
        "a.show()"
      ],
      "execution_count": 39,
      "outputs": [
        {
          "output_type": "stream",
          "name": "stdout",
          "text": [
            "Enter picture size:- 9\n",
            "Enter picture creator:- ASHWANI\n",
            "Enter picture description:- AS YOU CAN SEE, I AM NOT DEAD\n",
            "Enter picture dimension:- 34\n",
            "Enter Pdfs size:- 12\n",
            "Enter Pdfs creator name:- ADARSH\n",
            "Enter Pdfs description:- I CAN DO THIS ALL DAY!!!\n",
            "AS YOU CAN SEE, I AM NOT DEAD     I CAN DO THIS ALL DAY!!!\n"
          ]
        }
      ]
    },
    {
      "cell_type": "markdown",
      "metadata": {
        "id": "40jXSUBe3fH6"
      },
      "source": [
        "### Q3"
      ]
    },
    {
      "cell_type": "code",
      "metadata": {
        "colab": {
          "base_uri": "https://localhost:8080/"
        },
        "id": "vzczJTDtyGxN",
        "outputId": "8fe35369-fc02-4f7f-b135-385b80ac3add"
      },
      "source": [
        "class vehicle:\n",
        "  def __init__(self):\n",
        "    self.name = input(\"Enter vehicle name:- \")\n",
        "    self.mileage = input(\"enter mileage:- \")\n",
        "    self.capacity = input(\"Enter capacity:- \")\n",
        "  def Bus_fare(self):\n",
        "    return self.capacity * 100\n",
        "class Bus(vehicle):\n",
        "  def fare(self):\n",
        "    fare_car = int(self.capacity * 100)\n",
        "    total_fare = fare_car + (0.1 *fare_car)\n",
        "    return total_fare\n",
        "\n",
        "a = Bus()\n",
        "print(isinstance(a,vehicle))\n",
        "print(\"Total Bus fare is:\", a.fare())"
      ],
      "execution_count": null,
      "outputs": [
        {
          "output_type": "stream",
          "name": "stdout",
          "text": [
            "Enter vehicle name:- VAN\n",
            "enter mileage:- 12\n",
            "Enter capacity:- 15\n",
            "True\n",
            "Total Bus fare is: 1.6666666666666667e+199\n"
          ]
        }
      ]
    }
  ]
}